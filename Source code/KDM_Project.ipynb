{
 "cells": [
  {
   "cell_type": "markdown",
   "metadata": {},
   "source": [
    "## Increment 1"
   ]
  },
  {
   "cell_type": "code",
   "execution_count": 1,
   "metadata": {},
   "outputs": [],
   "source": [
    "#The Dark Knight (2008)\n",
    "\n",
    "from selenium import webdriver\n",
    "from webdriver_manager.chrome import ChromeDriverManager\n",
    "from selenium.common.exceptions import ElementNotVisibleException"
   ]
  },
  {
   "cell_type": "code",
   "execution_count": 2,
   "metadata": {},
   "outputs": [],
   "source": [
    "from bs4 import BeautifulSoup\n",
    "import time\n",
    "import urllib.request\n",
    "from selenium import webdriver \n",
    "driver = webdriver.Chrome(\"C:\\Webdriver/chromedriver.exe\")\n",
    "driver.get(\"https://www.imdb.com/title/tt0468569/reviews?ref_=tt_ql_3\")\n",
    "\n",
    "button = driver.find_element_by_id('load-more-trigger')\n",
    "key = True\n",
    "while key:\n",
    "    time.sleep(1)\n",
    "    try:\n",
    "        button.click()\n",
    "        button = driver.find_element_by_id('load-more-trigger')\n",
    "    except:\n",
    "        key = False"
   ]
  },
  {
   "cell_type": "code",
   "execution_count": 3,
   "metadata": {},
   "outputs": [],
   "source": [
    "html = driver.page_source\n",
    "soup = BeautifulSoup(html.encode(\"utf-8\"), \"html.parser\")\n",
    "TheDarkKnight = soup.find_all('div', class_ = 'content')"
   ]
  },
  {
   "cell_type": "code",
   "execution_count": 4,
   "metadata": {},
   "outputs": [
    {
     "name": "stdout",
     "output_type": "stream",
     "text": [
      "<class 'bs4.element.ResultSet'>\n",
      "5897\n"
     ]
    }
   ],
   "source": [
    "print(type(TheDarkKnight))\n",
    "print(len(TheDarkKnight))"
   ]
  },
  {
   "cell_type": "code",
   "execution_count": 5,
   "metadata": {},
   "outputs": [],
   "source": [
    "brothListReviewsOnly = []\n",
    "brothList = soup.select(\".review-container\")\n",
    "temp = 1\n",
    "for item in range(0,len(brothList)):\n",
    "    title = brothList[item].select(\".title\")[0].text\n",
    "    review = brothList[item].select(\".text\")[0].text\n",
    "    brothListReviewsOnly.append(review)\n",
    "    file = open(r'C:\\Users\\Saeed\\Desktop\\KDM_Project\\AllReviews_beforeCleaning\\r' +str(temp) +'.txt', 'w', encoding='utf-8')\n",
    "    temp = temp+1\n",
    "#     print(review +\"~~~~~~~~~~~~~~~~~~~~~~~~~~~~~\")\n",
    "    file.write(str(review))\n",
    "file.close()"
   ]
  },
  {
   "cell_type": "code",
   "execution_count": 6,
   "metadata": {},
   "outputs": [
    {
     "name": "stdout",
     "output_type": "stream",
     "text": [
      "5897\n"
     ]
    }
   ],
   "source": [
    "print(len(brothListReviewsOnly))"
   ]
  },
  {
   "cell_type": "code",
   "execution_count": 7,
   "metadata": {},
   "outputs": [],
   "source": [
    "#part2\n",
    "\n",
    "import string\n",
    "translator = str.maketrans('', '', string.punctuation)\n",
    "brothList = soup.select(\".review-container\")\n",
    "for item in range(0,len(brothList)):\n",
    "    review = brothList[item].select(\".text\")[0].text.translate(translator)\n",
    "    brothListReviewsOnly[item] = review.translate(translator)"
   ]
  },
  {
   "cell_type": "code",
   "execution_count": 8,
   "metadata": {},
   "outputs": [
    {
     "data": {
      "text/plain": [
       "'Weve been subjected to enormous amounts of hype and marketing for the Dark Knight Weve seen Joker scavenger hunts and one of the largest viral campaigns in advertising history and it culminates with the actual release of the movieEverything thats been said is pretty much spot on This is the first time I can remember where a summer blockbuster film far surpasses the hypeFor as much action as there is in this movie its the acting that makes it a great piece of work Between all the punches explosions and stuntwork is some great dialog work All the actors have their momentsBales Batman is the definitive Batman because we see everything in this character finally on film Martial arts skills cunning great tactical thinking forensic application technological genius to advance or improve Luscious Foxs inventionstechnological breakthroughs intimidating personality and even a little swashbuckling As for Heath yes he gets credit for his performance as the Joker But you have to also recognize Jonathan and Chris Nolan for the writing and treatment of the character Its not just the fact that Ledger makes the Joker so menacing but the Nolans have given the character this great manifesto that drives its actions The Jokers stance on chaos order anarchy the morality of the average modern human being make the character so interesting psychologically The Nolans drafted a complex character and only a perfect performance couldve pulled something like this off Thats how difficult of a role this was and thats why Ledgers performance is so greatThis isnt an action movie Its a film that explores literary themes of the hero and villain as well as order and anarchy Yes listen to the dialog because its all in there'"
      ]
     },
     "execution_count": 8,
     "metadata": {},
     "output_type": "execute_result"
    }
   ],
   "source": [
    "brothListReviewsOnly[1]"
   ]
  },
  {
   "cell_type": "code",
   "execution_count": 9,
   "metadata": {},
   "outputs": [],
   "source": [
    "import nltk\n",
    "from nltk.corpus import stopwords\n",
    "from nltk import pos_tag\n",
    "from nltk import pos_tag, word_tokenize"
   ]
  },
  {
   "cell_type": "code",
   "execution_count": 10,
   "metadata": {},
   "outputs": [],
   "source": [
    "#part2\n",
    "\n",
    "stop = set(stopwords.words('english'))\n",
    "for x in range(0,len(brothListReviewsOnly)):             \n",
    "    filtered_words = [i for i in word_tokenize(brothListReviewsOnly[x].lower()) if i not in stop]\n",
    "    brothListReviewsOnly[x] = \" \".join(filtered_words)"
   ]
  },
  {
   "cell_type": "code",
   "execution_count": 11,
   "metadata": {},
   "outputs": [
    {
     "data": {
      "text/plain": [
       "'weve subjected enormous amounts hype marketing dark knight weve seen joker scavenger hunts one largest viral campaigns advertising history culminates actual release movieeverything thats said pretty much spot first time remember summer blockbuster film far surpasses hypefor much action movie acting makes great piece work punches explosions stuntwork great dialog work actors momentsbales batman definitive batman see everything character finally film martial arts skills cunning great tactical thinking forensic application technological genius advance improve luscious foxs inventionstechnological breakthroughs intimidating personality even little swashbuckling heath yes gets credit performance joker also recognize jonathan chris nolan writing treatment character fact ledger makes joker menacing nolans given character great manifesto drives actions jokers stance chaos order anarchy morality average modern human make character interesting psychologically nolans drafted complex character perfect performance couldve pulled something like thats difficult role thats ledgers performance greatthis isnt action movie film explores literary themes hero villain well order anarchy yes listen dialog'"
      ]
     },
     "execution_count": 11,
     "metadata": {},
     "output_type": "execute_result"
    }
   ],
   "source": [
    "brothListReviewsOnly[1]"
   ]
  },
  {
   "cell_type": "code",
   "execution_count": 12,
   "metadata": {},
   "outputs": [],
   "source": [
    "import nltk\n",
    "from nltk.stem import WordNetLemmatizer\n",
    "from nltk import word_tokenize, pos_tag, WordNetLemmatizer\n",
    "from nltk import word_tokenize, pos_tag, WordNetLemmatizer\n",
    "wordnet_lemmatizer = WordNetLemmatizer()"
   ]
  },
  {
   "cell_type": "code",
   "execution_count": null,
   "metadata": {},
   "outputs": [],
   "source": []
  },
  {
   "cell_type": "code",
   "execution_count": null,
   "metadata": {},
   "outputs": [],
   "source": []
  },
  {
   "cell_type": "code",
   "execution_count": null,
   "metadata": {},
   "outputs": [],
   "source": []
  },
  {
   "cell_type": "code",
   "execution_count": null,
   "metadata": {},
   "outputs": [],
   "source": []
  },
  {
   "cell_type": "code",
   "execution_count": null,
   "metadata": {},
   "outputs": [],
   "source": []
  }
 ],
 "metadata": {
  "kernelspec": {
   "display_name": "Python 3",
   "language": "python",
   "name": "python3"
  },
  "language_info": {
   "codemirror_mode": {
    "name": "ipython",
    "version": 3
   },
   "file_extension": ".py",
   "mimetype": "text/x-python",
   "name": "python",
   "nbconvert_exporter": "python",
   "pygments_lexer": "ipython3",
   "version": "3.6.9"
  }
 },
 "nbformat": 4,
 "nbformat_minor": 2
}
